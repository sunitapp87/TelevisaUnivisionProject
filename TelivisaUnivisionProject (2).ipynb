{
 "cells": [
  {
   "cell_type": "markdown",
   "id": "6bcc2ba7-74c2-48fa-90f8-9b42101e3389",
   "metadata": {},
   "source": [
    "## Importing Libraries"
   ]
  },
  {
   "cell_type": "code",
   "execution_count": 154,
   "id": "627f3974-dc44-4a15-b947-2804889f0241",
   "metadata": {},
   "outputs": [],
   "source": [
    "import numpy as np\n",
    "import pandas as pd\n",
    "import matplotlib.pyplot as plt\n",
    "import seaborn as sns\n",
    "import warnings\n",
    "warnings.filterwarnings('ignore')"
   ]
  },
  {
   "cell_type": "markdown",
   "id": "c75c8ef1-4c08-4ab8-8583-098bd2ddcea6",
   "metadata": {},
   "source": [
    "### Loading the Dataset 1"
   ]
  },
  {
   "cell_type": "code",
   "execution_count": 155,
   "id": "f0f81cb5-2322-4d2a-9afb-c7c7245f2e27",
   "metadata": {
    "scrolled": true
   },
   "outputs": [],
   "source": [
    "df = pd.read_csv('Downloads/R3TEK - Tasks.csv', encoding='cp1252')"
   ]
  },
  {
   "cell_type": "markdown",
   "id": "08000ae6-3d9a-4e2c-9fb3-8a3ae6049297",
   "metadata": {},
   "source": [
    "### Exploratory Data Analysis and Data Cleaning"
   ]
  },
  {
   "cell_type": "code",
   "execution_count": 156,
   "id": "6f58e446-647b-4b08-8f68-f293b8912fbe",
   "metadata": {},
   "outputs": [
    {
     "data": {
      "text/html": [
       "<div>\n",
       "<style scoped>\n",
       "    .dataframe tbody tr th:only-of-type {\n",
       "        vertical-align: middle;\n",
       "    }\n",
       "\n",
       "    .dataframe tbody tr th {\n",
       "        vertical-align: top;\n",
       "    }\n",
       "\n",
       "    .dataframe thead th {\n",
       "        text-align: right;\n",
       "    }\n",
       "</style>\n",
       "<table border=\"1\" class=\"dataframe\">\n",
       "  <thead>\n",
       "    <tr style=\"text-align: right;\">\n",
       "      <th></th>\n",
       "      <th>Number</th>\n",
       "      <th>Customer [Incident]</th>\n",
       "      <th>Ticket Type [Incident]</th>\n",
       "      <th>Short description</th>\n",
       "      <th>State</th>\n",
       "      <th>Task type</th>\n",
       "      <th>Due Date [Control Test]</th>\n",
       "      <th>Configuration item</th>\n",
       "      <th>Assignment Group</th>\n",
       "      <th>Assigned to</th>\n",
       "      <th>Priority</th>\n",
       "      <th>Reopen count [Incident]</th>\n",
       "      <th>Created</th>\n",
       "    </tr>\n",
       "  </thead>\n",
       "  <tbody>\n",
       "    <tr>\n",
       "      <th>0</th>\n",
       "      <td>CHG0075302</td>\n",
       "      <td>NaN</td>\n",
       "      <td>NaN</td>\n",
       "      <td>Perform database maintenance</td>\n",
       "      <td>Closed Complete</td>\n",
       "      <td>Change Request</td>\n",
       "      <td>NaN</td>\n",
       "      <td>RSGPRD</td>\n",
       "      <td>Database Management Services</td>\n",
       "      <td>Rasiyabi Umer</td>\n",
       "      <td>3 - Medium</td>\n",
       "      <td>NaN</td>\n",
       "      <td>2025-05-30 09:32:08 AM</td>\n",
       "    </tr>\n",
       "    <tr>\n",
       "      <th>1</th>\n",
       "      <td>TASK0657308</td>\n",
       "      <td>NaN</td>\n",
       "      <td>NaN</td>\n",
       "      <td>Order new phone</td>\n",
       "      <td>Closed Complete</td>\n",
       "      <td>Catalog Task</td>\n",
       "      <td>NaN</td>\n",
       "      <td>NaN</td>\n",
       "      <td>Telecom Operations - Provisioning</td>\n",
       "      <td>Kiran Maddula</td>\n",
       "      <td>4 - Low</td>\n",
       "      <td>NaN</td>\n",
       "      <td>2025-05-29 04:57:14 PM</td>\n",
       "    </tr>\n",
       "    <tr>\n",
       "      <th>2</th>\n",
       "      <td>TASK0657304</td>\n",
       "      <td>NaN</td>\n",
       "      <td>NaN</td>\n",
       "      <td>Task for :RightsLogic  User Access Request</td>\n",
       "      <td>Closed Complete</td>\n",
       "      <td>Catalog Task</td>\n",
       "      <td>NaN</td>\n",
       "      <td>NaN</td>\n",
       "      <td>Supply Chain Services</td>\n",
       "      <td>Arkuti Prasharamulu</td>\n",
       "      <td>4 - Low</td>\n",
       "      <td>NaN</td>\n",
       "      <td>2025-05-29 04:57:10 PM</td>\n",
       "    </tr>\n",
       "    <tr>\n",
       "      <th>3</th>\n",
       "      <td>CHG0075279</td>\n",
       "      <td>NaN</td>\n",
       "      <td>NaN</td>\n",
       "      <td>Configure database</td>\n",
       "      <td>Closed Complete</td>\n",
       "      <td>Change Request</td>\n",
       "      <td>NaN</td>\n",
       "      <td>V5PROD</td>\n",
       "      <td>Database Management Services</td>\n",
       "      <td>Rasiyabi Umer</td>\n",
       "      <td>3 - Medium</td>\n",
       "      <td>NaN</td>\n",
       "      <td>2025-05-29 11:36:13 AM</td>\n",
       "    </tr>\n",
       "    <tr>\n",
       "      <th>4</th>\n",
       "      <td>CHG0075278</td>\n",
       "      <td>NaN</td>\n",
       "      <td>NaN</td>\n",
       "      <td>Configure database</td>\n",
       "      <td>Closed Complete</td>\n",
       "      <td>Change Request</td>\n",
       "      <td>NaN</td>\n",
       "      <td>UVNPEBS</td>\n",
       "      <td>Database Management Services</td>\n",
       "      <td>Rasiyabi Umer</td>\n",
       "      <td>3 - Medium</td>\n",
       "      <td>NaN</td>\n",
       "      <td>2025-05-29 11:34:06 AM</td>\n",
       "    </tr>\n",
       "  </tbody>\n",
       "</table>\n",
       "</div>"
      ],
      "text/plain": [
       "        Number Customer [Incident] Ticket Type [Incident]  \\\n",
       "0   CHG0075302                 NaN                    NaN   \n",
       "1  TASK0657308                 NaN                    NaN   \n",
       "2  TASK0657304                 NaN                    NaN   \n",
       "3   CHG0075279                 NaN                    NaN   \n",
       "4   CHG0075278                 NaN                    NaN   \n",
       "\n",
       "                            Short description            State  \\\n",
       "0                Perform database maintenance  Closed Complete   \n",
       "1                             Order new phone  Closed Complete   \n",
       "2  Task for :RightsLogic  User Access Request  Closed Complete   \n",
       "3                          Configure database  Closed Complete   \n",
       "4                          Configure database  Closed Complete   \n",
       "\n",
       "        Task type  Due Date [Control Test] Configuration item  \\\n",
       "0  Change Request                      NaN             RSGPRD   \n",
       "1    Catalog Task                      NaN                NaN   \n",
       "2    Catalog Task                      NaN                NaN   \n",
       "3  Change Request                      NaN             V5PROD   \n",
       "4  Change Request                      NaN            UVNPEBS   \n",
       "\n",
       "                    Assignment Group          Assigned to    Priority  \\\n",
       "0       Database Management Services        Rasiyabi Umer  3 - Medium   \n",
       "1  Telecom Operations - Provisioning        Kiran Maddula     4 - Low   \n",
       "2              Supply Chain Services  Arkuti Prasharamulu     4 - Low   \n",
       "3       Database Management Services        Rasiyabi Umer  3 - Medium   \n",
       "4       Database Management Services        Rasiyabi Umer  3 - Medium   \n",
       "\n",
       "   Reopen count [Incident]                 Created  \n",
       "0                      NaN  2025-05-30 09:32:08 AM  \n",
       "1                      NaN  2025-05-29 04:57:14 PM  \n",
       "2                      NaN  2025-05-29 04:57:10 PM  \n",
       "3                      NaN  2025-05-29 11:36:13 AM  \n",
       "4                      NaN  2025-05-29 11:34:06 AM  "
      ]
     },
     "execution_count": 156,
     "metadata": {},
     "output_type": "execute_result"
    }
   ],
   "source": [
    "df.head()"
   ]
  },
  {
   "cell_type": "code",
   "execution_count": 157,
   "id": "fc72028b-a8ff-4728-9bb1-139763f56bce",
   "metadata": {},
   "outputs": [
    {
     "data": {
      "text/html": [
       "<div>\n",
       "<style scoped>\n",
       "    .dataframe tbody tr th:only-of-type {\n",
       "        vertical-align: middle;\n",
       "    }\n",
       "\n",
       "    .dataframe tbody tr th {\n",
       "        vertical-align: top;\n",
       "    }\n",
       "\n",
       "    .dataframe thead th {\n",
       "        text-align: right;\n",
       "    }\n",
       "</style>\n",
       "<table border=\"1\" class=\"dataframe\">\n",
       "  <thead>\n",
       "    <tr style=\"text-align: right;\">\n",
       "      <th></th>\n",
       "      <th>Number</th>\n",
       "      <th>Customer [Incident]</th>\n",
       "      <th>Ticket Type [Incident]</th>\n",
       "      <th>Short description</th>\n",
       "      <th>State</th>\n",
       "      <th>Task type</th>\n",
       "      <th>Due Date [Control Test]</th>\n",
       "      <th>Configuration item</th>\n",
       "      <th>Assignment Group</th>\n",
       "      <th>Assigned to</th>\n",
       "      <th>Priority</th>\n",
       "      <th>Reopen count [Incident]</th>\n",
       "      <th>Created</th>\n",
       "    </tr>\n",
       "  </thead>\n",
       "  <tbody>\n",
       "    <tr>\n",
       "      <th>1425</th>\n",
       "      <td>INC1171520</td>\n",
       "      <td>Jayapradha Ramasamy</td>\n",
       "      <td>Request</td>\n",
       "      <td>Stations for Entravision or Affiliates do not ...</td>\n",
       "      <td>Closed</td>\n",
       "      <td>Incident</td>\n",
       "      <td>NaN</td>\n",
       "      <td>Business Objects 4.3 - Prod</td>\n",
       "      <td>Business Intelligence</td>\n",
       "      <td>Barathan R</td>\n",
       "      <td>4 - Low</td>\n",
       "      <td>0.0</td>\n",
       "      <td>2024-10-01 12:55:22 PM</td>\n",
       "    </tr>\n",
       "    <tr>\n",
       "      <th>1426</th>\n",
       "      <td>INC1168823</td>\n",
       "      <td>Enrique Lopez</td>\n",
       "      <td>Incident</td>\n",
       "      <td>Software - dead phone line</td>\n",
       "      <td>Closed</td>\n",
       "      <td>Incident</td>\n",
       "      <td>NaN</td>\n",
       "      <td>Telecom Management System - TMS</td>\n",
       "      <td>Telecom Operations - Provisioning</td>\n",
       "      <td>Kiran Maddula</td>\n",
       "      <td>3 - Medium</td>\n",
       "      <td>0.0</td>\n",
       "      <td>2024-09-24 09:45:08 AM</td>\n",
       "    </tr>\n",
       "    <tr>\n",
       "      <th>1427</th>\n",
       "      <td>INC1130833</td>\n",
       "      <td>Jennifer Madia</td>\n",
       "      <td>Request</td>\n",
       "      <td>Add C/P/E Code Order in to the Reports</td>\n",
       "      <td>Closed</td>\n",
       "      <td>Incident</td>\n",
       "      <td>NaN</td>\n",
       "      <td>Business Objects 4.3 - Prod</td>\n",
       "      <td>Business Intelligence</td>\n",
       "      <td>Barathan R</td>\n",
       "      <td>4 - Low</td>\n",
       "      <td>0.0</td>\n",
       "      <td>2024-05-15 08:40:37 AM</td>\n",
       "    </tr>\n",
       "    <tr>\n",
       "      <th>1428</th>\n",
       "      <td>INC1123333</td>\n",
       "      <td>Kamalakannan Karunakaran</td>\n",
       "      <td>Incident</td>\n",
       "      <td>Profitability Summary  Report Issue</td>\n",
       "      <td>Closed</td>\n",
       "      <td>Incident</td>\n",
       "      <td>NaN</td>\n",
       "      <td>azu-boe-qapp2</td>\n",
       "      <td>Business Intelligence</td>\n",
       "      <td>Barathan R</td>\n",
       "      <td>4 - Low</td>\n",
       "      <td>0.0</td>\n",
       "      <td>2024-04-10 10:59:34 AM</td>\n",
       "    </tr>\n",
       "    <tr>\n",
       "      <th>1429</th>\n",
       "      <td>INC1123326</td>\n",
       "      <td>Jennifer Madia</td>\n",
       "      <td>Request</td>\n",
       "      <td>AR008 : Add Invoive GL Date</td>\n",
       "      <td>Closed</td>\n",
       "      <td>Incident</td>\n",
       "      <td>NaN</td>\n",
       "      <td>Business Objects 4.3 - Prod</td>\n",
       "      <td>Business Intelligence</td>\n",
       "      <td>Barathan R</td>\n",
       "      <td>4 - Low</td>\n",
       "      <td>0.0</td>\n",
       "      <td>2024-04-10 10:34:58 AM</td>\n",
       "    </tr>\n",
       "  </tbody>\n",
       "</table>\n",
       "</div>"
      ],
      "text/plain": [
       "          Number       Customer [Incident] Ticket Type [Incident]  \\\n",
       "1425  INC1171520       Jayapradha Ramasamy                Request   \n",
       "1426  INC1168823             Enrique Lopez               Incident   \n",
       "1427  INC1130833            Jennifer Madia                Request   \n",
       "1428  INC1123333  Kamalakannan Karunakaran               Incident   \n",
       "1429  INC1123326            Jennifer Madia                Request   \n",
       "\n",
       "                                      Short description   State Task type  \\\n",
       "1425  Stations for Entravision or Affiliates do not ...  Closed  Incident   \n",
       "1426                        Software - dead phone line   Closed  Incident   \n",
       "1427             Add C/P/E Code Order in to the Reports  Closed  Incident   \n",
       "1428                Profitability Summary  Report Issue  Closed  Incident   \n",
       "1429                        AR008 : Add Invoive GL Date  Closed  Incident   \n",
       "\n",
       "      Due Date [Control Test]               Configuration item  \\\n",
       "1425                      NaN      Business Objects 4.3 - Prod   \n",
       "1426                      NaN  Telecom Management System - TMS   \n",
       "1427                      NaN      Business Objects 4.3 - Prod   \n",
       "1428                      NaN                    azu-boe-qapp2   \n",
       "1429                      NaN      Business Objects 4.3 - Prod   \n",
       "\n",
       "                       Assignment Group    Assigned to    Priority  \\\n",
       "1425              Business Intelligence     Barathan R     4 - Low   \n",
       "1426  Telecom Operations - Provisioning  Kiran Maddula  3 - Medium   \n",
       "1427              Business Intelligence     Barathan R     4 - Low   \n",
       "1428              Business Intelligence     Barathan R     4 - Low   \n",
       "1429              Business Intelligence     Barathan R     4 - Low   \n",
       "\n",
       "      Reopen count [Incident]                 Created  \n",
       "1425                      0.0  2024-10-01 12:55:22 PM  \n",
       "1426                      0.0  2024-09-24 09:45:08 AM  \n",
       "1427                      0.0  2024-05-15 08:40:37 AM  \n",
       "1428                      0.0  2024-04-10 10:59:34 AM  \n",
       "1429                      0.0  2024-04-10 10:34:58 AM  "
      ]
     },
     "execution_count": 157,
     "metadata": {},
     "output_type": "execute_result"
    }
   ],
   "source": [
    "df.tail()"
   ]
  },
  {
   "cell_type": "code",
   "execution_count": 158,
   "id": "9a0518f8-9d2c-40d9-b4bb-353a36fc42bd",
   "metadata": {},
   "outputs": [
    {
     "data": {
      "text/plain": [
       "(1430, 13)"
      ]
     },
     "execution_count": 158,
     "metadata": {},
     "output_type": "execute_result"
    }
   ],
   "source": [
    "df.shape"
   ]
  },
  {
   "cell_type": "code",
   "execution_count": 159,
   "id": "9a96f985-8ea3-4d8c-8cbc-bbe659b2e584",
   "metadata": {},
   "outputs": [
    {
     "data": {
      "text/plain": [
       "Index(['Number', 'Customer [Incident]', 'Ticket Type [Incident]',\n",
       "       'Short description', 'State', 'Task type', 'Due Date [Control Test]',\n",
       "       'Configuration item', 'Assignment Group', 'Assigned to', 'Priority',\n",
       "       'Reopen count [Incident]', 'Created'],\n",
       "      dtype='object')"
      ]
     },
     "execution_count": 159,
     "metadata": {},
     "output_type": "execute_result"
    }
   ],
   "source": [
    "df.columns"
   ]
  },
  {
   "cell_type": "code",
   "execution_count": 160,
   "id": "a703e3b6-6567-45a9-8ea4-5d5e085dfd93",
   "metadata": {},
   "outputs": [
    {
     "name": "stdout",
     "output_type": "stream",
     "text": [
      "<class 'pandas.core.frame.DataFrame'>\n",
      "RangeIndex: 1430 entries, 0 to 1429\n",
      "Data columns (total 13 columns):\n",
      " #   Column                   Non-Null Count  Dtype  \n",
      "---  ------                   --------------  -----  \n",
      " 0   Number                   1430 non-null   object \n",
      " 1   Customer [Incident]      1003 non-null   object \n",
      " 2   Ticket Type [Incident]   1003 non-null   object \n",
      " 3   Short description        1408 non-null   object \n",
      " 4   State                    1430 non-null   object \n",
      " 5   Task type                1430 non-null   object \n",
      " 6   Due Date [Control Test]  0 non-null      float64\n",
      " 7   Configuration item       1402 non-null   object \n",
      " 8   Assignment Group         1430 non-null   object \n",
      " 9   Assigned to              1430 non-null   object \n",
      " 10  Priority                 1193 non-null   object \n",
      " 11  Reopen count [Incident]  1003 non-null   float64\n",
      " 12  Created                  1430 non-null   object \n",
      "dtypes: float64(2), object(11)\n",
      "memory usage: 145.4+ KB\n"
     ]
    }
   ],
   "source": [
    "df.info()"
   ]
  },
  {
   "cell_type": "code",
   "execution_count": 161,
   "id": "37f5e622-5c28-46de-81d1-72031380657a",
   "metadata": {},
   "outputs": [],
   "source": [
    "# for converting Created (object) to Created (data and time) datatype\n",
    "\n",
    "df['Created'] = pd.to_datetime(df['Created'])"
   ]
  },
  {
   "cell_type": "code",
   "execution_count": 163,
   "id": "813a69c5-df47-4f90-b88b-d03d6de89833",
   "metadata": {},
   "outputs": [
    {
     "data": {
      "text/html": [
       "<div>\n",
       "<style scoped>\n",
       "    .dataframe tbody tr th:only-of-type {\n",
       "        vertical-align: middle;\n",
       "    }\n",
       "\n",
       "    .dataframe tbody tr th {\n",
       "        vertical-align: top;\n",
       "    }\n",
       "\n",
       "    .dataframe thead th {\n",
       "        text-align: right;\n",
       "    }\n",
       "</style>\n",
       "<table border=\"1\" class=\"dataframe\">\n",
       "  <thead>\n",
       "    <tr style=\"text-align: right;\">\n",
       "      <th></th>\n",
       "      <th>Number</th>\n",
       "      <th>Customer [Incident]</th>\n",
       "      <th>Ticket Type [Incident]</th>\n",
       "      <th>Short description</th>\n",
       "      <th>State</th>\n",
       "      <th>Task type</th>\n",
       "      <th>Configuration item</th>\n",
       "      <th>Assignment Group</th>\n",
       "      <th>Assigned to</th>\n",
       "      <th>Priority</th>\n",
       "    </tr>\n",
       "  </thead>\n",
       "  <tbody>\n",
       "    <tr>\n",
       "      <th>count</th>\n",
       "      <td>1430</td>\n",
       "      <td>1003</td>\n",
       "      <td>1003</td>\n",
       "      <td>1408</td>\n",
       "      <td>1430</td>\n",
       "      <td>1430</td>\n",
       "      <td>1402</td>\n",
       "      <td>1430</td>\n",
       "      <td>1430</td>\n",
       "      <td>1193</td>\n",
       "    </tr>\n",
       "    <tr>\n",
       "      <th>unique</th>\n",
       "      <td>1430</td>\n",
       "      <td>130</td>\n",
       "      <td>2</td>\n",
       "      <td>761</td>\n",
       "      <td>4</td>\n",
       "      <td>7</td>\n",
       "      <td>160</td>\n",
       "      <td>14</td>\n",
       "      <td>45</td>\n",
       "      <td>3</td>\n",
       "    </tr>\n",
       "    <tr>\n",
       "      <th>top</th>\n",
       "      <td>CHG0075302</td>\n",
       "      <td>Rasiyabi Umer</td>\n",
       "      <td>Request</td>\n",
       "      <td>Modify database</td>\n",
       "      <td>Closed</td>\n",
       "      <td>Incident</td>\n",
       "      <td>Business Objects 4.3 - Prod</td>\n",
       "      <td>Database Management Services</td>\n",
       "      <td>Rasiyabi Umer</td>\n",
       "      <td>4 - Low</td>\n",
       "    </tr>\n",
       "    <tr>\n",
       "      <th>freq</th>\n",
       "      <td>1</td>\n",
       "      <td>83</td>\n",
       "      <td>890</td>\n",
       "      <td>109</td>\n",
       "      <td>1002</td>\n",
       "      <td>1003</td>\n",
       "      <td>124</td>\n",
       "      <td>449</td>\n",
       "      <td>120</td>\n",
       "      <td>1066</td>\n",
       "    </tr>\n",
       "  </tbody>\n",
       "</table>\n",
       "</div>"
      ],
      "text/plain": [
       "            Number Customer [Incident] Ticket Type [Incident]  \\\n",
       "count         1430                1003                   1003   \n",
       "unique        1430                 130                      2   \n",
       "top     CHG0075302       Rasiyabi Umer                Request   \n",
       "freq             1                  83                    890   \n",
       "\n",
       "       Short description   State Task type           Configuration item  \\\n",
       "count               1408    1430      1430                         1402   \n",
       "unique               761       4         7                          160   \n",
       "top      Modify database  Closed  Incident  Business Objects 4.3 - Prod   \n",
       "freq                 109    1002      1003                          124   \n",
       "\n",
       "                    Assignment Group    Assigned to Priority  \n",
       "count                           1430           1430     1193  \n",
       "unique                            14             45        3  \n",
       "top     Database Management Services  Rasiyabi Umer  4 - Low  \n",
       "freq                             449            120     1066  "
      ]
     },
     "execution_count": 163,
     "metadata": {},
     "output_type": "execute_result"
    }
   ],
   "source": [
    "df.describe(include='object')"
   ]
  },
  {
   "cell_type": "code",
   "execution_count": 164,
   "id": "ad8752ce-0fc4-427f-8d80-1f2083203b67",
   "metadata": {},
   "outputs": [
    {
     "data": {
      "text/plain": [
       "Number                        0\n",
       "Customer [Incident]         427\n",
       "Ticket Type [Incident]      427\n",
       "Short description            22\n",
       "State                         0\n",
       "Task type                     0\n",
       "Due Date [Control Test]    1430\n",
       "Configuration item           28\n",
       "Assignment Group              0\n",
       "Assigned to                   0\n",
       "Priority                    237\n",
       "Reopen count [Incident]     427\n",
       "Created                       0\n",
       "dtype: int64"
      ]
     },
     "execution_count": 164,
     "metadata": {},
     "output_type": "execute_result"
    }
   ],
   "source": [
    "df.isnull().sum()"
   ]
  },
  {
   "cell_type": "code",
   "execution_count": 167,
   "id": "8ffcf203-9736-4e20-8e15-000202dd4406",
   "metadata": {},
   "outputs": [],
   "source": [
    "df.drop(['Customer [Incident]','Ticket Type [Incident]','Due Date [Control Test]','Short description','Configuration item','Assigned to'], axis =1 ,inplace=True)"
   ]
  },
  {
   "cell_type": "code",
   "execution_count": 168,
   "id": "b003cc32-aa00-4f1d-a356-1c4b15659478",
   "metadata": {},
   "outputs": [
    {
     "data": {
      "text/plain": [
       "Number                       0\n",
       "State                        0\n",
       "Task type                    0\n",
       "Assignment Group             0\n",
       "Priority                   237\n",
       "Reopen count [Incident]    427\n",
       "Created                      0\n",
       "dtype: int64"
      ]
     },
     "execution_count": 168,
     "metadata": {},
     "output_type": "execute_result"
    }
   ],
   "source": [
    "df.isnull().sum()"
   ]
  },
  {
   "cell_type": "code",
   "execution_count": 169,
   "id": "438f3409-bdb7-49e2-94a4-f4d692c9b626",
   "metadata": {},
   "outputs": [
    {
     "data": {
      "text/html": [
       "<div>\n",
       "<style scoped>\n",
       "    .dataframe tbody tr th:only-of-type {\n",
       "        vertical-align: middle;\n",
       "    }\n",
       "\n",
       "    .dataframe tbody tr th {\n",
       "        vertical-align: top;\n",
       "    }\n",
       "\n",
       "    .dataframe thead th {\n",
       "        text-align: right;\n",
       "    }\n",
       "</style>\n",
       "<table border=\"1\" class=\"dataframe\">\n",
       "  <thead>\n",
       "    <tr style=\"text-align: right;\">\n",
       "      <th></th>\n",
       "      <th>Number</th>\n",
       "      <th>State</th>\n",
       "      <th>Task type</th>\n",
       "      <th>Assignment Group</th>\n",
       "      <th>Priority</th>\n",
       "      <th>Reopen count [Incident]</th>\n",
       "      <th>Created</th>\n",
       "    </tr>\n",
       "  </thead>\n",
       "  <tbody>\n",
       "    <tr>\n",
       "      <th>0</th>\n",
       "      <td>CHG0075302</td>\n",
       "      <td>Closed Complete</td>\n",
       "      <td>Change Request</td>\n",
       "      <td>Database Management Services</td>\n",
       "      <td>3 - Medium</td>\n",
       "      <td>NaN</td>\n",
       "      <td>2025-05-30 09:32:08</td>\n",
       "    </tr>\n",
       "    <tr>\n",
       "      <th>1</th>\n",
       "      <td>TASK0657308</td>\n",
       "      <td>Closed Complete</td>\n",
       "      <td>Catalog Task</td>\n",
       "      <td>Telecom Operations - Provisioning</td>\n",
       "      <td>4 - Low</td>\n",
       "      <td>NaN</td>\n",
       "      <td>2025-05-29 16:57:14</td>\n",
       "    </tr>\n",
       "    <tr>\n",
       "      <th>2</th>\n",
       "      <td>TASK0657304</td>\n",
       "      <td>Closed Complete</td>\n",
       "      <td>Catalog Task</td>\n",
       "      <td>Supply Chain Services</td>\n",
       "      <td>4 - Low</td>\n",
       "      <td>NaN</td>\n",
       "      <td>2025-05-29 16:57:10</td>\n",
       "    </tr>\n",
       "    <tr>\n",
       "      <th>3</th>\n",
       "      <td>CHG0075279</td>\n",
       "      <td>Closed Complete</td>\n",
       "      <td>Change Request</td>\n",
       "      <td>Database Management Services</td>\n",
       "      <td>3 - Medium</td>\n",
       "      <td>NaN</td>\n",
       "      <td>2025-05-29 11:36:13</td>\n",
       "    </tr>\n",
       "    <tr>\n",
       "      <th>4</th>\n",
       "      <td>CHG0075278</td>\n",
       "      <td>Closed Complete</td>\n",
       "      <td>Change Request</td>\n",
       "      <td>Database Management Services</td>\n",
       "      <td>3 - Medium</td>\n",
       "      <td>NaN</td>\n",
       "      <td>2025-05-29 11:34:06</td>\n",
       "    </tr>\n",
       "  </tbody>\n",
       "</table>\n",
       "</div>"
      ],
      "text/plain": [
       "        Number            State       Task type  \\\n",
       "0   CHG0075302  Closed Complete  Change Request   \n",
       "1  TASK0657308  Closed Complete    Catalog Task   \n",
       "2  TASK0657304  Closed Complete    Catalog Task   \n",
       "3   CHG0075279  Closed Complete  Change Request   \n",
       "4   CHG0075278  Closed Complete  Change Request   \n",
       "\n",
       "                    Assignment Group    Priority  Reopen count [Incident]  \\\n",
       "0       Database Management Services  3 - Medium                      NaN   \n",
       "1  Telecom Operations - Provisioning     4 - Low                      NaN   \n",
       "2              Supply Chain Services     4 - Low                      NaN   \n",
       "3       Database Management Services  3 - Medium                      NaN   \n",
       "4       Database Management Services  3 - Medium                      NaN   \n",
       "\n",
       "              Created  \n",
       "0 2025-05-30 09:32:08  \n",
       "1 2025-05-29 16:57:14  \n",
       "2 2025-05-29 16:57:10  \n",
       "3 2025-05-29 11:36:13  \n",
       "4 2025-05-29 11:34:06  "
      ]
     },
     "execution_count": 169,
     "metadata": {},
     "output_type": "execute_result"
    }
   ],
   "source": [
    "df.head()"
   ]
  },
  {
   "cell_type": "code",
   "execution_count": 170,
   "id": "ee28e37a-9f6c-4f88-a592-0af745e5c477",
   "metadata": {},
   "outputs": [],
   "source": [
    "df['Reopen count [Incident]'] = df['Reopen count [Incident]'].fillna(0)"
   ]
  },
  {
   "cell_type": "code",
   "execution_count": 172,
   "id": "d673c013-902d-475c-89a0-1ad95dcaad8d",
   "metadata": {},
   "outputs": [],
   "source": [
    "df['Priority'] = df['Priority'].fillna('4-Low')"
   ]
  },
  {
   "cell_type": "code",
   "execution_count": 173,
   "id": "3586cfe9-fe67-4019-8cf4-4b937ec5d2f9",
   "metadata": {},
   "outputs": [
    {
     "data": {
      "text/plain": [
       "Number                     0\n",
       "State                      0\n",
       "Task type                  0\n",
       "Assignment Group           0\n",
       "Priority                   0\n",
       "Reopen count [Incident]    0\n",
       "Created                    0\n",
       "dtype: int64"
      ]
     },
     "execution_count": 173,
     "metadata": {},
     "output_type": "execute_result"
    }
   ],
   "source": [
    "df.isnull().sum()"
   ]
  },
  {
   "cell_type": "code",
   "execution_count": 175,
   "id": "65d09021-4e1c-4b17-a85f-47096b50ada3",
   "metadata": {},
   "outputs": [
    {
     "name": "stdout",
     "output_type": "stream",
     "text": [
      "<class 'pandas.core.frame.DataFrame'>\n",
      "RangeIndex: 1430 entries, 0 to 1429\n",
      "Data columns (total 7 columns):\n",
      " #   Column                   Non-Null Count  Dtype         \n",
      "---  ------                   --------------  -----         \n",
      " 0   Number                   1430 non-null   object        \n",
      " 1   State                    1430 non-null   object        \n",
      " 2   Task type                1430 non-null   object        \n",
      " 3   Assignment Group         1430 non-null   object        \n",
      " 4   Priority                 1430 non-null   object        \n",
      " 5   Reopen count [Incident]  1430 non-null   float64       \n",
      " 6   Created                  1430 non-null   datetime64[ns]\n",
      "dtypes: datetime64[ns](1), float64(1), object(5)\n",
      "memory usage: 78.3+ KB\n"
     ]
    }
   ],
   "source": [
    "df.info()"
   ]
  },
  {
   "cell_type": "code",
   "execution_count": 176,
   "id": "f6835f2b-f57d-4eb1-9c8d-b961702923c9",
   "metadata": {},
   "outputs": [],
   "source": [
    "df['Reopen count [Incident]'] = df['Reopen count [Incident]'].astype(int)"
   ]
  },
  {
   "cell_type": "code",
   "execution_count": 178,
   "id": "5ff2d8ce-1d0b-4fd5-9aa3-6ad4a703827f",
   "metadata": {},
   "outputs": [
    {
     "data": {
      "text/plain": [
       "Assignment Group\n",
       "Database Management Services         449\n",
       "Snowflake Operation Support          194\n",
       "Supply Chain Services                156\n",
       "Business Intelligence                150\n",
       "MDM Operations  Support              144\n",
       "EIS – Managed Services               143\n",
       "EIS – Platform Services               71\n",
       "GCP IT Operation                      52\n",
       "MDM Application Support               26\n",
       "Azure Architecture                    17\n",
       "Application Development               15\n",
       "EIS – Project                          7\n",
       "Telecom Operations - Provisioning      4\n",
       "Telecom Architecture                   2\n",
       "Name: count, dtype: int64"
      ]
     },
     "execution_count": 178,
     "metadata": {},
     "output_type": "execute_result"
    }
   ],
   "source": [
    "df['Assignment Group'].value_counts()"
   ]
  },
  {
   "cell_type": "code",
   "execution_count": 179,
   "id": "0de0bbf3-31f0-4b22-8315-df2f46408ff8",
   "metadata": {},
   "outputs": [
    {
     "data": {
      "text/plain": [
       "array(['Database Management Services',\n",
       "       'Telecom Operations - Provisioning', 'Supply Chain Services',\n",
       "       'EIS – Managed Services  ', 'MDM Operations  Support',\n",
       "       'Azure Architecture', 'Snowflake Operation Support',\n",
       "       'Business Intelligence', 'GCP IT Operation ',\n",
       "       'MDM Application Support ', 'EIS – Platform Services',\n",
       "       'EIS – Project ', 'Application Development',\n",
       "       'Telecom Architecture'], dtype=object)"
      ]
     },
     "execution_count": 179,
     "metadata": {},
     "output_type": "execute_result"
    }
   ],
   "source": [
    "df['Assignment Group'].unique()"
   ]
  },
  {
   "cell_type": "code",
   "execution_count": 180,
   "id": "63a88867-426f-4da9-bef8-51adc72bf020",
   "metadata": {},
   "outputs": [
    {
     "data": {
      "text/plain": [
       "Task type\n",
       "Incident          1003\n",
       "Change Task        286\n",
       "Change Request     107\n",
       "Catalog Task        16\n",
       "Requested Item      10\n",
       "Request Task         7\n",
       "Problem              1\n",
       "Name: count, dtype: int64"
      ]
     },
     "execution_count": 180,
     "metadata": {},
     "output_type": "execute_result"
    }
   ],
   "source": [
    "df['Task type'].value_counts()"
   ]
  },
  {
   "cell_type": "code",
   "execution_count": 181,
   "id": "3a359dae-e61b-4ffd-ae68-30aaa45149b2",
   "metadata": {},
   "outputs": [
    {
     "data": {
      "text/plain": [
       "Priority\n",
       "4 - Low       1066\n",
       "4-Low          237\n",
       "3 - Medium     123\n",
       "2 - High         4\n",
       "Name: count, dtype: int64"
      ]
     },
     "execution_count": 181,
     "metadata": {},
     "output_type": "execute_result"
    }
   ],
   "source": [
    "df['Priority'].value_counts()"
   ]
  },
  {
   "cell_type": "code",
   "execution_count": 182,
   "id": "6e1dd0cf-cdbb-4dc4-8d3a-09cd62d09d40",
   "metadata": {},
   "outputs": [
    {
     "data": {
      "text/plain": [
       "State\n",
       "Closed               1002\n",
       "Closed Complete       418\n",
       "Closed Incomplete       8\n",
       "Cancelled               2\n",
       "Name: count, dtype: int64"
      ]
     },
     "execution_count": 182,
     "metadata": {},
     "output_type": "execute_result"
    }
   ],
   "source": [
    "df['State'].value_counts()"
   ]
  },
  {
   "cell_type": "code",
   "execution_count": 183,
   "id": "ae29eaa9-79f4-49ef-b8f4-20f740d679f4",
   "metadata": {},
   "outputs": [
    {
     "data": {
      "text/html": [
       "<div>\n",
       "<style scoped>\n",
       "    .dataframe tbody tr th:only-of-type {\n",
       "        vertical-align: middle;\n",
       "    }\n",
       "\n",
       "    .dataframe tbody tr th {\n",
       "        vertical-align: top;\n",
       "    }\n",
       "\n",
       "    .dataframe thead th {\n",
       "        text-align: right;\n",
       "    }\n",
       "</style>\n",
       "<table border=\"1\" class=\"dataframe\">\n",
       "  <thead>\n",
       "    <tr style=\"text-align: right;\">\n",
       "      <th></th>\n",
       "      <th>Number</th>\n",
       "      <th>State</th>\n",
       "      <th>Task type</th>\n",
       "      <th>Assignment Group</th>\n",
       "      <th>Priority</th>\n",
       "      <th>Reopen count [Incident]</th>\n",
       "      <th>Created</th>\n",
       "    </tr>\n",
       "  </thead>\n",
       "  <tbody>\n",
       "    <tr>\n",
       "      <th>0</th>\n",
       "      <td>CHG0075302</td>\n",
       "      <td>Closed Complete</td>\n",
       "      <td>Change Request</td>\n",
       "      <td>Database Management Services</td>\n",
       "      <td>3 - Medium</td>\n",
       "      <td>0</td>\n",
       "      <td>2025-05-30 09:32:08</td>\n",
       "    </tr>\n",
       "    <tr>\n",
       "      <th>1</th>\n",
       "      <td>TASK0657308</td>\n",
       "      <td>Closed Complete</td>\n",
       "      <td>Catalog Task</td>\n",
       "      <td>Telecom Operations - Provisioning</td>\n",
       "      <td>4 - Low</td>\n",
       "      <td>0</td>\n",
       "      <td>2025-05-29 16:57:14</td>\n",
       "    </tr>\n",
       "    <tr>\n",
       "      <th>2</th>\n",
       "      <td>TASK0657304</td>\n",
       "      <td>Closed Complete</td>\n",
       "      <td>Catalog Task</td>\n",
       "      <td>Supply Chain Services</td>\n",
       "      <td>4 - Low</td>\n",
       "      <td>0</td>\n",
       "      <td>2025-05-29 16:57:10</td>\n",
       "    </tr>\n",
       "    <tr>\n",
       "      <th>3</th>\n",
       "      <td>CHG0075279</td>\n",
       "      <td>Closed Complete</td>\n",
       "      <td>Change Request</td>\n",
       "      <td>Database Management Services</td>\n",
       "      <td>3 - Medium</td>\n",
       "      <td>0</td>\n",
       "      <td>2025-05-29 11:36:13</td>\n",
       "    </tr>\n",
       "    <tr>\n",
       "      <th>4</th>\n",
       "      <td>CHG0075278</td>\n",
       "      <td>Closed Complete</td>\n",
       "      <td>Change Request</td>\n",
       "      <td>Database Management Services</td>\n",
       "      <td>3 - Medium</td>\n",
       "      <td>0</td>\n",
       "      <td>2025-05-29 11:34:06</td>\n",
       "    </tr>\n",
       "  </tbody>\n",
       "</table>\n",
       "</div>"
      ],
      "text/plain": [
       "        Number            State       Task type  \\\n",
       "0   CHG0075302  Closed Complete  Change Request   \n",
       "1  TASK0657308  Closed Complete    Catalog Task   \n",
       "2  TASK0657304  Closed Complete    Catalog Task   \n",
       "3   CHG0075279  Closed Complete  Change Request   \n",
       "4   CHG0075278  Closed Complete  Change Request   \n",
       "\n",
       "                    Assignment Group    Priority  Reopen count [Incident]  \\\n",
       "0       Database Management Services  3 - Medium                        0   \n",
       "1  Telecom Operations - Provisioning     4 - Low                        0   \n",
       "2              Supply Chain Services     4 - Low                        0   \n",
       "3       Database Management Services  3 - Medium                        0   \n",
       "4       Database Management Services  3 - Medium                        0   \n",
       "\n",
       "              Created  \n",
       "0 2025-05-30 09:32:08  \n",
       "1 2025-05-29 16:57:14  \n",
       "2 2025-05-29 16:57:10  \n",
       "3 2025-05-29 11:36:13  \n",
       "4 2025-05-29 11:34:06  "
      ]
     },
     "execution_count": 183,
     "metadata": {},
     "output_type": "execute_result"
    }
   ],
   "source": [
    "df.head()"
   ]
  },
  {
   "cell_type": "code",
   "execution_count": 184,
   "id": "c94aaf02-b5d1-403c-ad3d-29cbe3e58003",
   "metadata": {},
   "outputs": [
    {
     "data": {
      "text/plain": [
       "State\n",
       "Closed               1002\n",
       "Closed Complete       418\n",
       "Closed Incomplete       8\n",
       "Cancelled               2\n",
       "Name: count, dtype: int64"
      ]
     },
     "execution_count": 184,
     "metadata": {},
     "output_type": "execute_result"
    }
   ],
   "source": [
    "df['State'].value_counts()"
   ]
  },
  {
   "cell_type": "code",
   "execution_count": 185,
   "id": "b5162271-f7a3-4752-b7ce-c7785f6b768f",
   "metadata": {},
   "outputs": [],
   "source": [
    "# renaming closed complete and cancelled to closed , closed incomplete to open\n",
    "\n",
    "df['State'] = df['State'].replace({'Closed Complete':'Closed','Cancelled':'Closed','Closed Incomplete':'Open'})"
   ]
  },
  {
   "cell_type": "code",
   "execution_count": 186,
   "id": "de1be013-5118-4636-b8ba-e380aa06d03b",
   "metadata": {},
   "outputs": [
    {
     "data": {
      "text/plain": [
       "State\n",
       "Closed    1422\n",
       "Open         8\n",
       "Name: count, dtype: int64"
      ]
     },
     "execution_count": 186,
     "metadata": {},
     "output_type": "execute_result"
    }
   ],
   "source": [
    "df['State'].value_counts()"
   ]
  },
  {
   "cell_type": "code",
   "execution_count": 447,
   "id": "d2866dec-ebe5-4377-92ca-99aaf1322a0c",
   "metadata": {},
   "outputs": [
    {
     "data": {
      "text/plain": [
       "0"
      ]
     },
     "execution_count": 447,
     "metadata": {},
     "output_type": "execute_result"
    }
   ],
   "source": [
    "df[df.duplicated()]   # this will show only the duplicated rows if there is any\n",
    "df.duplicated().sum()"
   ]
  },
  {
   "cell_type": "markdown",
   "id": "c8992664-2782-419d-bfb9-9b37c1d4eee3",
   "metadata": {},
   "source": [
    "### Loading 2nd dataset"
   ]
  },
  {
   "cell_type": "code",
   "execution_count": 402,
   "id": "aa58b714-99e2-4209-a7f7-aa2bd3fb6f43",
   "metadata": {},
   "outputs": [],
   "source": [
    "df_SLA = pd.read_csv('Downloads/SLA - Response and Resolution.csv',encoding='cp1252')"
   ]
  },
  {
   "cell_type": "code",
   "execution_count": 403,
   "id": "4d8211d1-f4b4-48dc-a38c-5b5398a52ff1",
   "metadata": {},
   "outputs": [
    {
     "data": {
      "text/html": [
       "<div>\n",
       "<style scoped>\n",
       "    .dataframe tbody tr th:only-of-type {\n",
       "        vertical-align: middle;\n",
       "    }\n",
       "\n",
       "    .dataframe tbody tr th {\n",
       "        vertical-align: top;\n",
       "    }\n",
       "\n",
       "    .dataframe thead th {\n",
       "        text-align: right;\n",
       "    }\n",
       "</style>\n",
       "<table border=\"1\" class=\"dataframe\">\n",
       "  <thead>\n",
       "    <tr style=\"text-align: right;\">\n",
       "      <th></th>\n",
       "      <th>Number</th>\n",
       "      <th>Assignment Group</th>\n",
       "      <th>Assigned to</th>\n",
       "      <th>Created</th>\n",
       "      <th>Created by</th>\n",
       "      <th>SLA</th>\n",
       "      <th>Has breached</th>\n",
       "      <th>Breached Assigned To</th>\n",
       "      <th>Breached Assignment Group</th>\n",
       "      <th>Company</th>\n",
       "      <th>Stage</th>\n",
       "    </tr>\n",
       "  </thead>\n",
       "  <tbody>\n",
       "    <tr>\n",
       "      <th>0</th>\n",
       "      <td>INC1227209</td>\n",
       "      <td>Telecom Operations - Provisioning</td>\n",
       "      <td>Kiran Maddula</td>\n",
       "      <td>2025-03-31 03:30:31 PM</td>\n",
       "      <td>lulopez</td>\n",
       "      <td>Priority 4 Resolution (3 BD 9 - 5 EST)</td>\n",
       "      <td>True</td>\n",
       "      <td>Kiran Maddula</td>\n",
       "      <td>Telecom Operations - Provisioning</td>\n",
       "      <td>R3 TECHNOLOGY INC</td>\n",
       "      <td>Completed</td>\n",
       "    </tr>\n",
       "    <tr>\n",
       "      <th>1</th>\n",
       "      <td>INC1232249</td>\n",
       "      <td>Business Intelligence</td>\n",
       "      <td>Poongundran Kaliaperumal</td>\n",
       "      <td>2025-04-11 07:42:04 AM</td>\n",
       "      <td>draj</td>\n",
       "      <td>Priority 3 Response (4 hours)</td>\n",
       "      <td>True</td>\n",
       "      <td>NaN</td>\n",
       "      <td>Business Intelligence</td>\n",
       "      <td>NaN</td>\n",
       "      <td>Completed</td>\n",
       "    </tr>\n",
       "    <tr>\n",
       "      <th>2</th>\n",
       "      <td>INC1232249</td>\n",
       "      <td>Business Intelligence</td>\n",
       "      <td>Poongundran Kaliaperumal</td>\n",
       "      <td>2025-04-11 07:42:04 AM</td>\n",
       "      <td>draj</td>\n",
       "      <td>Priority 3 Resolution (2 BD 9 - 5 EST)</td>\n",
       "      <td>True</td>\n",
       "      <td>NaN</td>\n",
       "      <td>Business Intelligence</td>\n",
       "      <td>NaN</td>\n",
       "      <td>Completed</td>\n",
       "    </tr>\n",
       "    <tr>\n",
       "      <th>3</th>\n",
       "      <td>INC1239848</td>\n",
       "      <td>Application Development</td>\n",
       "      <td>Vignesh Selvam</td>\n",
       "      <td>2025-04-29 04:22:50 PM</td>\n",
       "      <td>sthodupunoori</td>\n",
       "      <td>Priority 5 Resolution (5 BD 9 - 5 EST)</td>\n",
       "      <td>True</td>\n",
       "      <td>Vignesh Selvam</td>\n",
       "      <td>Application Development</td>\n",
       "      <td>R3 TECHNOLOGY INC</td>\n",
       "      <td>Completed</td>\n",
       "    </tr>\n",
       "    <tr>\n",
       "      <th>4</th>\n",
       "      <td>INC1229294</td>\n",
       "      <td>Business Intelligence</td>\n",
       "      <td>Poongundran Kaliaperumal</td>\n",
       "      <td>2025-04-04 12:02:46 PM</td>\n",
       "      <td>jramasamy</td>\n",
       "      <td>Priority 5 Resolution (5 BD 9 - 5 EST)</td>\n",
       "      <td>True</td>\n",
       "      <td>Poongundran Kaliaperumal</td>\n",
       "      <td>Business Intelligence</td>\n",
       "      <td>R3 TECHNOLOGY INC</td>\n",
       "      <td>Completed</td>\n",
       "    </tr>\n",
       "  </tbody>\n",
       "</table>\n",
       "</div>"
      ],
      "text/plain": [
       "       Number                   Assignment Group               Assigned to  \\\n",
       "0  INC1227209  Telecom Operations - Provisioning             Kiran Maddula   \n",
       "1  INC1232249              Business Intelligence  Poongundran Kaliaperumal   \n",
       "2  INC1232249              Business Intelligence  Poongundran Kaliaperumal   \n",
       "3  INC1239848            Application Development            Vignesh Selvam   \n",
       "4  INC1229294              Business Intelligence  Poongundran Kaliaperumal   \n",
       "\n",
       "                  Created     Created by  \\\n",
       "0  2025-03-31 03:30:31 PM        lulopez   \n",
       "1  2025-04-11 07:42:04 AM           draj   \n",
       "2  2025-04-11 07:42:04 AM           draj   \n",
       "3  2025-04-29 04:22:50 PM  sthodupunoori   \n",
       "4  2025-04-04 12:02:46 PM      jramasamy   \n",
       "\n",
       "                                      SLA  Has breached  \\\n",
       "0  Priority 4 Resolution (3 BD 9 - 5 EST)          True   \n",
       "1           Priority 3 Response (4 hours)          True   \n",
       "2  Priority 3 Resolution (2 BD 9 - 5 EST)          True   \n",
       "3  Priority 5 Resolution (5 BD 9 - 5 EST)          True   \n",
       "4  Priority 5 Resolution (5 BD 9 - 5 EST)          True   \n",
       "\n",
       "       Breached Assigned To          Breached Assignment Group  \\\n",
       "0             Kiran Maddula  Telecom Operations - Provisioning   \n",
       "1                       NaN              Business Intelligence   \n",
       "2                       NaN              Business Intelligence   \n",
       "3            Vignesh Selvam            Application Development   \n",
       "4  Poongundran Kaliaperumal              Business Intelligence   \n",
       "\n",
       "             Company      Stage  \n",
       "0  R3 TECHNOLOGY INC  Completed  \n",
       "1                NaN  Completed  \n",
       "2                NaN  Completed  \n",
       "3  R3 TECHNOLOGY INC  Completed  \n",
       "4  R3 TECHNOLOGY INC  Completed  "
      ]
     },
     "execution_count": 403,
     "metadata": {},
     "output_type": "execute_result"
    }
   ],
   "source": [
    "df_SLA.head()"
   ]
  },
  {
   "cell_type": "code",
   "execution_count": 404,
   "id": "2ce5f467-238f-4480-af1e-3f8a66a16e18",
   "metadata": {},
   "outputs": [],
   "source": [
    "df_SLA.drop(['Assigned to','Created by','Has breached','Breached Assigned To','Breached Assignment Group','Company','Stage'], axis =1 ,inplace=True)"
   ]
  },
  {
   "cell_type": "code",
   "execution_count": 405,
   "id": "ddbfe5fa-f895-4c5d-bd5a-308ab3b16b13",
   "metadata": {},
   "outputs": [
    {
     "name": "stdout",
     "output_type": "stream",
     "text": [
      "<class 'pandas.core.frame.DataFrame'>\n",
      "RangeIndex: 38 entries, 0 to 37\n",
      "Data columns (total 4 columns):\n",
      " #   Column            Non-Null Count  Dtype \n",
      "---  ------            --------------  ----- \n",
      " 0   Number            38 non-null     object\n",
      " 1   Assignment Group  38 non-null     object\n",
      " 2   Created           38 non-null     object\n",
      " 3   SLA               38 non-null     object\n",
      "dtypes: object(4)\n",
      "memory usage: 1.3+ KB\n"
     ]
    }
   ],
   "source": [
    "df_SLA.info()"
   ]
  },
  {
   "cell_type": "code",
   "execution_count": 406,
   "id": "db263fae-5065-445d-bf51-4470799664a2",
   "metadata": {},
   "outputs": [],
   "source": [
    "df_SLA['Created'] = pd.to_datetime(df['Created'])"
   ]
  },
  {
   "cell_type": "code",
   "execution_count": 407,
   "id": "34caa65c-9529-4169-b8d8-e0ea62046cd3",
   "metadata": {},
   "outputs": [
    {
     "data": {
      "text/plain": [
       "Assignment Group\n",
       "Business Intelligence                24\n",
       "Azure Architecture                    5\n",
       "Telecom Operations - Provisioning     2\n",
       "Application Development               2\n",
       "ETOC - ITSM                           2\n",
       "EIS – Managed Services                1\n",
       "GCP IT Operation                      1\n",
       "Database Management Services          1\n",
       "Name: count, dtype: int64"
      ]
     },
     "execution_count": 407,
     "metadata": {},
     "output_type": "execute_result"
    }
   ],
   "source": [
    "df_SLA['Assignment Group'].value_counts()"
   ]
  },
  {
   "cell_type": "code",
   "execution_count": 408,
   "id": "a40e2021-8331-49de-bd94-c8ca805f36e5",
   "metadata": {},
   "outputs": [
    {
     "data": {
      "text/plain": [
       "SLA\n",
       "Priority 5 Resolution (5 BD 9 - 5 EST)     13\n",
       "Priority 5 Response (2 BD 9 - 5 EST)        9\n",
       "Priority 3 Resolution (2 BD 9 - 5 EST)      4\n",
       "Priority 4 Resolution (3 BD 9 - 5 EST)      3\n",
       "Priority 3 Response (4 hours)               2\n",
       "Priority 4 Response (2 BD 9 - 5 EST)        2\n",
       "Major Inc Response (15min - 24x7)           2\n",
       "Priority 4 Response (2 hours)               1\n",
       "Inc Resp P4 Onsite 11:00PM-5:00PM (M-F)     1\n",
       "Priority 2 Response (2 hours)               1\n",
       "Name: count, dtype: int64"
      ]
     },
     "execution_count": 408,
     "metadata": {},
     "output_type": "execute_result"
    }
   ],
   "source": [
    "df_SLA['SLA'].value_counts()"
   ]
  },
  {
   "cell_type": "code",
   "execution_count": 409,
   "id": "95c90327-d404-477f-b811-38b2be3f8b06",
   "metadata": {},
   "outputs": [],
   "source": [
    " df_merge = pd.merge(df,df_SLA, on='Number',how='outer')"
   ]
  },
  {
   "cell_type": "code",
   "execution_count": 410,
   "id": "24b9ab89-8d0f-48fe-85be-db6ede2f003a",
   "metadata": {},
   "outputs": [],
   "source": [
    "#df_merge = pd.concat([df,df_SLA], axis=1)"
   ]
  },
  {
   "cell_type": "code",
   "execution_count": 411,
   "id": "18d552d3-c2c9-429f-8080-642b7ae232ce",
   "metadata": {},
   "outputs": [
    {
     "data": {
      "text/html": [
       "<div>\n",
       "<style scoped>\n",
       "    .dataframe tbody tr th:only-of-type {\n",
       "        vertical-align: middle;\n",
       "    }\n",
       "\n",
       "    .dataframe tbody tr th {\n",
       "        vertical-align: top;\n",
       "    }\n",
       "\n",
       "    .dataframe thead th {\n",
       "        text-align: right;\n",
       "    }\n",
       "</style>\n",
       "<table border=\"1\" class=\"dataframe\">\n",
       "  <thead>\n",
       "    <tr style=\"text-align: right;\">\n",
       "      <th></th>\n",
       "      <th>Number</th>\n",
       "      <th>State</th>\n",
       "      <th>Task type</th>\n",
       "      <th>Assignment Group_x</th>\n",
       "      <th>Priority</th>\n",
       "      <th>Reopen count [Incident]</th>\n",
       "      <th>Created_x</th>\n",
       "      <th>Assignment Group_y</th>\n",
       "      <th>Created_y</th>\n",
       "      <th>SLA</th>\n",
       "    </tr>\n",
       "  </thead>\n",
       "  <tbody>\n",
       "    <tr>\n",
       "      <th>0</th>\n",
       "      <td>CHG0074204</td>\n",
       "      <td>Closed</td>\n",
       "      <td>Change Request</td>\n",
       "      <td>MDM Application Support</td>\n",
       "      <td>4 - Low</td>\n",
       "      <td>0.0</td>\n",
       "      <td>2025-04-14 10:20:11</td>\n",
       "      <td>NaN</td>\n",
       "      <td>NaT</td>\n",
       "      <td>NaN</td>\n",
       "    </tr>\n",
       "    <tr>\n",
       "      <th>1</th>\n",
       "      <td>CHG0074205</td>\n",
       "      <td>Closed</td>\n",
       "      <td>Change Request</td>\n",
       "      <td>MDM Application Support</td>\n",
       "      <td>4 - Low</td>\n",
       "      <td>0.0</td>\n",
       "      <td>2025-04-14 10:41:49</td>\n",
       "      <td>NaN</td>\n",
       "      <td>NaT</td>\n",
       "      <td>NaN</td>\n",
       "    </tr>\n",
       "    <tr>\n",
       "      <th>2</th>\n",
       "      <td>CHG0074461</td>\n",
       "      <td>Closed</td>\n",
       "      <td>Change Request</td>\n",
       "      <td>EIS – Managed Services</td>\n",
       "      <td>3 - Medium</td>\n",
       "      <td>0.0</td>\n",
       "      <td>2025-04-24 03:52:14</td>\n",
       "      <td>NaN</td>\n",
       "      <td>NaT</td>\n",
       "      <td>NaN</td>\n",
       "    </tr>\n",
       "    <tr>\n",
       "      <th>3</th>\n",
       "      <td>CHG0074485</td>\n",
       "      <td>Closed</td>\n",
       "      <td>Change Request</td>\n",
       "      <td>Snowflake Operation Support</td>\n",
       "      <td>3 - Medium</td>\n",
       "      <td>0.0</td>\n",
       "      <td>2025-04-25 05:57:50</td>\n",
       "      <td>NaN</td>\n",
       "      <td>NaT</td>\n",
       "      <td>NaN</td>\n",
       "    </tr>\n",
       "    <tr>\n",
       "      <th>4</th>\n",
       "      <td>CHG0074513</td>\n",
       "      <td>Closed</td>\n",
       "      <td>Change Request</td>\n",
       "      <td>Database Management Services</td>\n",
       "      <td>3 - Medium</td>\n",
       "      <td>0.0</td>\n",
       "      <td>2025-04-28 12:48:40</td>\n",
       "      <td>NaN</td>\n",
       "      <td>NaT</td>\n",
       "      <td>NaN</td>\n",
       "    </tr>\n",
       "    <tr>\n",
       "      <th>...</th>\n",
       "      <td>...</td>\n",
       "      <td>...</td>\n",
       "      <td>...</td>\n",
       "      <td>...</td>\n",
       "      <td>...</td>\n",
       "      <td>...</td>\n",
       "      <td>...</td>\n",
       "      <td>...</td>\n",
       "      <td>...</td>\n",
       "      <td>...</td>\n",
       "    </tr>\n",
       "    <tr>\n",
       "      <th>1438</th>\n",
       "      <td>TASK0655122</td>\n",
       "      <td>Closed</td>\n",
       "      <td>Catalog Task</td>\n",
       "      <td>Snowflake Operation Support</td>\n",
       "      <td>4 - Low</td>\n",
       "      <td>0.0</td>\n",
       "      <td>2025-05-27 12:22:56</td>\n",
       "      <td>NaN</td>\n",
       "      <td>NaT</td>\n",
       "      <td>NaN</td>\n",
       "    </tr>\n",
       "    <tr>\n",
       "      <th>1439</th>\n",
       "      <td>TASK0655123</td>\n",
       "      <td>Closed</td>\n",
       "      <td>Catalog Task</td>\n",
       "      <td>Snowflake Operation Support</td>\n",
       "      <td>4 - Low</td>\n",
       "      <td>0.0</td>\n",
       "      <td>2025-05-27 12:23:24</td>\n",
       "      <td>NaN</td>\n",
       "      <td>NaT</td>\n",
       "      <td>NaN</td>\n",
       "    </tr>\n",
       "    <tr>\n",
       "      <th>1440</th>\n",
       "      <td>TASK0655514</td>\n",
       "      <td>Closed</td>\n",
       "      <td>Catalog Task</td>\n",
       "      <td>Telecom Operations - Provisioning</td>\n",
       "      <td>4 - Low</td>\n",
       "      <td>0.0</td>\n",
       "      <td>2025-05-27 16:39:48</td>\n",
       "      <td>NaN</td>\n",
       "      <td>NaT</td>\n",
       "      <td>NaN</td>\n",
       "    </tr>\n",
       "    <tr>\n",
       "      <th>1441</th>\n",
       "      <td>TASK0657304</td>\n",
       "      <td>Closed</td>\n",
       "      <td>Catalog Task</td>\n",
       "      <td>Supply Chain Services</td>\n",
       "      <td>4 - Low</td>\n",
       "      <td>0.0</td>\n",
       "      <td>2025-05-29 16:57:10</td>\n",
       "      <td>NaN</td>\n",
       "      <td>NaT</td>\n",
       "      <td>NaN</td>\n",
       "    </tr>\n",
       "    <tr>\n",
       "      <th>1442</th>\n",
       "      <td>TASK0657308</td>\n",
       "      <td>Closed</td>\n",
       "      <td>Catalog Task</td>\n",
       "      <td>Telecom Operations - Provisioning</td>\n",
       "      <td>4 - Low</td>\n",
       "      <td>0.0</td>\n",
       "      <td>2025-05-29 16:57:14</td>\n",
       "      <td>NaN</td>\n",
       "      <td>NaT</td>\n",
       "      <td>NaN</td>\n",
       "    </tr>\n",
       "  </tbody>\n",
       "</table>\n",
       "<p>1443 rows × 10 columns</p>\n",
       "</div>"
      ],
      "text/plain": [
       "           Number   State       Task type                 Assignment Group_x  \\\n",
       "0      CHG0074204  Closed  Change Request           MDM Application Support    \n",
       "1      CHG0074205  Closed  Change Request           MDM Application Support    \n",
       "2      CHG0074461  Closed  Change Request           EIS – Managed Services     \n",
       "3      CHG0074485  Closed  Change Request        Snowflake Operation Support   \n",
       "4      CHG0074513  Closed  Change Request       Database Management Services   \n",
       "...           ...     ...             ...                                ...   \n",
       "1438  TASK0655122  Closed    Catalog Task        Snowflake Operation Support   \n",
       "1439  TASK0655123  Closed    Catalog Task        Snowflake Operation Support   \n",
       "1440  TASK0655514  Closed    Catalog Task  Telecom Operations - Provisioning   \n",
       "1441  TASK0657304  Closed    Catalog Task              Supply Chain Services   \n",
       "1442  TASK0657308  Closed    Catalog Task  Telecom Operations - Provisioning   \n",
       "\n",
       "        Priority  Reopen count [Incident]           Created_x  \\\n",
       "0        4 - Low                      0.0 2025-04-14 10:20:11   \n",
       "1        4 - Low                      0.0 2025-04-14 10:41:49   \n",
       "2     3 - Medium                      0.0 2025-04-24 03:52:14   \n",
       "3     3 - Medium                      0.0 2025-04-25 05:57:50   \n",
       "4     3 - Medium                      0.0 2025-04-28 12:48:40   \n",
       "...          ...                      ...                 ...   \n",
       "1438     4 - Low                      0.0 2025-05-27 12:22:56   \n",
       "1439     4 - Low                      0.0 2025-05-27 12:23:24   \n",
       "1440     4 - Low                      0.0 2025-05-27 16:39:48   \n",
       "1441     4 - Low                      0.0 2025-05-29 16:57:10   \n",
       "1442     4 - Low                      0.0 2025-05-29 16:57:14   \n",
       "\n",
       "     Assignment Group_y Created_y  SLA  \n",
       "0                   NaN       NaT  NaN  \n",
       "1                   NaN       NaT  NaN  \n",
       "2                   NaN       NaT  NaN  \n",
       "3                   NaN       NaT  NaN  \n",
       "4                   NaN       NaT  NaN  \n",
       "...                 ...       ...  ...  \n",
       "1438                NaN       NaT  NaN  \n",
       "1439                NaN       NaT  NaN  \n",
       "1440                NaN       NaT  NaN  \n",
       "1441                NaN       NaT  NaN  \n",
       "1442                NaN       NaT  NaN  \n",
       "\n",
       "[1443 rows x 10 columns]"
      ]
     },
     "execution_count": 411,
     "metadata": {},
     "output_type": "execute_result"
    }
   ],
   "source": [
    "df_merge"
   ]
  },
  {
   "cell_type": "code",
   "execution_count": 412,
   "id": "e1e8d150-540f-4343-be28-80121f7ab287",
   "metadata": {},
   "outputs": [
    {
     "data": {
      "text/plain": [
       "Index(['Number', 'State', 'Task type', 'Assignment Group_x', 'Priority',\n",
       "       'Reopen count [Incident]', 'Created_x', 'Assignment Group_y',\n",
       "       'Created_y', 'SLA'],\n",
       "      dtype='object')"
      ]
     },
     "execution_count": 412,
     "metadata": {},
     "output_type": "execute_result"
    }
   ],
   "source": [
    "df_merge.columns"
   ]
  },
  {
   "cell_type": "code",
   "execution_count": 413,
   "id": "0e04fb66-e049-487d-82ee-1d567cefe945",
   "metadata": {},
   "outputs": [
    {
     "data": {
      "text/plain": [
       "array([nan, 'Priority 5 Response (2 BD 9 - 5 EST)',\n",
       "       'Priority 5 Resolution (5 BD 9 - 5 EST)',\n",
       "       'Priority 4 Response (2 BD 9 - 5 EST)',\n",
       "       'Priority 4 Resolution (3 BD 9 - 5 EST)',\n",
       "       'Priority 3 Resolution (2 BD 9 - 5 EST)',\n",
       "       'Inc Resp P4 Onsite 11:00PM-5:00PM (M-F)',\n",
       "       'Priority 3 Response (4 hours)', 'Priority 4 Response (2 hours)',\n",
       "       'Major Inc Response (15min - 24x7)',\n",
       "       'Priority 2 Response (2 hours)'], dtype=object)"
      ]
     },
     "execution_count": 413,
     "metadata": {},
     "output_type": "execute_result"
    }
   ],
   "source": [
    "df_merge['SLA'].unique()"
   ]
  },
  {
   "cell_type": "code",
   "execution_count": 414,
   "id": "169c5fbf-8878-46dd-ad2d-088d528747f2",
   "metadata": {},
   "outputs": [],
   "source": [
    "df_merge.drop(['State','Created_x','Assignment Group_y',\n",
    "       'Created_y'], axis =1 ,inplace=True)"
   ]
  },
  {
   "cell_type": "code",
   "execution_count": 415,
   "id": "6e75c57e-abe6-4532-b2d6-9b8cf5da081b",
   "metadata": {},
   "outputs": [
    {
     "data": {
      "text/html": [
       "<div>\n",
       "<style scoped>\n",
       "    .dataframe tbody tr th:only-of-type {\n",
       "        vertical-align: middle;\n",
       "    }\n",
       "\n",
       "    .dataframe tbody tr th {\n",
       "        vertical-align: top;\n",
       "    }\n",
       "\n",
       "    .dataframe thead th {\n",
       "        text-align: right;\n",
       "    }\n",
       "</style>\n",
       "<table border=\"1\" class=\"dataframe\">\n",
       "  <thead>\n",
       "    <tr style=\"text-align: right;\">\n",
       "      <th></th>\n",
       "      <th>Number</th>\n",
       "      <th>Task type</th>\n",
       "      <th>Assignment Group_x</th>\n",
       "      <th>Priority</th>\n",
       "      <th>Reopen count [Incident]</th>\n",
       "      <th>SLA</th>\n",
       "    </tr>\n",
       "  </thead>\n",
       "  <tbody>\n",
       "    <tr>\n",
       "      <th>0</th>\n",
       "      <td>CHG0074204</td>\n",
       "      <td>Change Request</td>\n",
       "      <td>MDM Application Support</td>\n",
       "      <td>4 - Low</td>\n",
       "      <td>0.0</td>\n",
       "      <td>NaN</td>\n",
       "    </tr>\n",
       "    <tr>\n",
       "      <th>1</th>\n",
       "      <td>CHG0074205</td>\n",
       "      <td>Change Request</td>\n",
       "      <td>MDM Application Support</td>\n",
       "      <td>4 - Low</td>\n",
       "      <td>0.0</td>\n",
       "      <td>NaN</td>\n",
       "    </tr>\n",
       "    <tr>\n",
       "      <th>2</th>\n",
       "      <td>CHG0074461</td>\n",
       "      <td>Change Request</td>\n",
       "      <td>EIS – Managed Services</td>\n",
       "      <td>3 - Medium</td>\n",
       "      <td>0.0</td>\n",
       "      <td>NaN</td>\n",
       "    </tr>\n",
       "    <tr>\n",
       "      <th>3</th>\n",
       "      <td>CHG0074485</td>\n",
       "      <td>Change Request</td>\n",
       "      <td>Snowflake Operation Support</td>\n",
       "      <td>3 - Medium</td>\n",
       "      <td>0.0</td>\n",
       "      <td>NaN</td>\n",
       "    </tr>\n",
       "    <tr>\n",
       "      <th>4</th>\n",
       "      <td>CHG0074513</td>\n",
       "      <td>Change Request</td>\n",
       "      <td>Database Management Services</td>\n",
       "      <td>3 - Medium</td>\n",
       "      <td>0.0</td>\n",
       "      <td>NaN</td>\n",
       "    </tr>\n",
       "    <tr>\n",
       "      <th>...</th>\n",
       "      <td>...</td>\n",
       "      <td>...</td>\n",
       "      <td>...</td>\n",
       "      <td>...</td>\n",
       "      <td>...</td>\n",
       "      <td>...</td>\n",
       "    </tr>\n",
       "    <tr>\n",
       "      <th>1438</th>\n",
       "      <td>TASK0655122</td>\n",
       "      <td>Catalog Task</td>\n",
       "      <td>Snowflake Operation Support</td>\n",
       "      <td>4 - Low</td>\n",
       "      <td>0.0</td>\n",
       "      <td>NaN</td>\n",
       "    </tr>\n",
       "    <tr>\n",
       "      <th>1439</th>\n",
       "      <td>TASK0655123</td>\n",
       "      <td>Catalog Task</td>\n",
       "      <td>Snowflake Operation Support</td>\n",
       "      <td>4 - Low</td>\n",
       "      <td>0.0</td>\n",
       "      <td>NaN</td>\n",
       "    </tr>\n",
       "    <tr>\n",
       "      <th>1440</th>\n",
       "      <td>TASK0655514</td>\n",
       "      <td>Catalog Task</td>\n",
       "      <td>Telecom Operations - Provisioning</td>\n",
       "      <td>4 - Low</td>\n",
       "      <td>0.0</td>\n",
       "      <td>NaN</td>\n",
       "    </tr>\n",
       "    <tr>\n",
       "      <th>1441</th>\n",
       "      <td>TASK0657304</td>\n",
       "      <td>Catalog Task</td>\n",
       "      <td>Supply Chain Services</td>\n",
       "      <td>4 - Low</td>\n",
       "      <td>0.0</td>\n",
       "      <td>NaN</td>\n",
       "    </tr>\n",
       "    <tr>\n",
       "      <th>1442</th>\n",
       "      <td>TASK0657308</td>\n",
       "      <td>Catalog Task</td>\n",
       "      <td>Telecom Operations - Provisioning</td>\n",
       "      <td>4 - Low</td>\n",
       "      <td>0.0</td>\n",
       "      <td>NaN</td>\n",
       "    </tr>\n",
       "  </tbody>\n",
       "</table>\n",
       "<p>1443 rows × 6 columns</p>\n",
       "</div>"
      ],
      "text/plain": [
       "           Number       Task type                 Assignment Group_x  \\\n",
       "0      CHG0074204  Change Request           MDM Application Support    \n",
       "1      CHG0074205  Change Request           MDM Application Support    \n",
       "2      CHG0074461  Change Request           EIS – Managed Services     \n",
       "3      CHG0074485  Change Request        Snowflake Operation Support   \n",
       "4      CHG0074513  Change Request       Database Management Services   \n",
       "...           ...             ...                                ...   \n",
       "1438  TASK0655122    Catalog Task        Snowflake Operation Support   \n",
       "1439  TASK0655123    Catalog Task        Snowflake Operation Support   \n",
       "1440  TASK0655514    Catalog Task  Telecom Operations - Provisioning   \n",
       "1441  TASK0657304    Catalog Task              Supply Chain Services   \n",
       "1442  TASK0657308    Catalog Task  Telecom Operations - Provisioning   \n",
       "\n",
       "        Priority  Reopen count [Incident]  SLA  \n",
       "0        4 - Low                      0.0  NaN  \n",
       "1        4 - Low                      0.0  NaN  \n",
       "2     3 - Medium                      0.0  NaN  \n",
       "3     3 - Medium                      0.0  NaN  \n",
       "4     3 - Medium                      0.0  NaN  \n",
       "...          ...                      ...  ...  \n",
       "1438     4 - Low                      0.0  NaN  \n",
       "1439     4 - Low                      0.0  NaN  \n",
       "1440     4 - Low                      0.0  NaN  \n",
       "1441     4 - Low                      0.0  NaN  \n",
       "1442     4 - Low                      0.0  NaN  \n",
       "\n",
       "[1443 rows x 6 columns]"
      ]
     },
     "execution_count": 415,
     "metadata": {},
     "output_type": "execute_result"
    }
   ],
   "source": [
    "df_merge"
   ]
  },
  {
   "cell_type": "code",
   "execution_count": 416,
   "id": "db69c788-285e-4e45-afc5-1036e2519d0c",
   "metadata": {},
   "outputs": [
    {
     "data": {
      "text/plain": [
       "1405"
      ]
     },
     "execution_count": 416,
     "metadata": {},
     "output_type": "execute_result"
    }
   ],
   "source": [
    "df_merge['SLA'].isna().sum()"
   ]
  },
  {
   "cell_type": "code",
   "execution_count": 417,
   "id": "c1e7a00c-62b5-4b7c-a9da-53480c6fe65a",
   "metadata": {},
   "outputs": [
    {
     "data": {
      "text/plain": [
       "38"
      ]
     },
     "execution_count": 417,
     "metadata": {},
     "output_type": "execute_result"
    }
   ],
   "source": [
    "df_merge['SLA'].notna().sum()"
   ]
  },
  {
   "cell_type": "code",
   "execution_count": 418,
   "id": "2014a0b4-1dce-4168-9229-92e215dd2112",
   "metadata": {},
   "outputs": [],
   "source": [
    "df_merge['SLA_Flag'] = df_merge['SLA'].notna().astype(int)"
   ]
  },
  {
   "cell_type": "code",
   "execution_count": 419,
   "id": "375a8ad6-4fbe-4ab5-8f7c-e91bef5a888d",
   "metadata": {},
   "outputs": [
    {
     "data": {
      "text/html": [
       "<div>\n",
       "<style scoped>\n",
       "    .dataframe tbody tr th:only-of-type {\n",
       "        vertical-align: middle;\n",
       "    }\n",
       "\n",
       "    .dataframe tbody tr th {\n",
       "        vertical-align: top;\n",
       "    }\n",
       "\n",
       "    .dataframe thead th {\n",
       "        text-align: right;\n",
       "    }\n",
       "</style>\n",
       "<table border=\"1\" class=\"dataframe\">\n",
       "  <thead>\n",
       "    <tr style=\"text-align: right;\">\n",
       "      <th></th>\n",
       "      <th>Number</th>\n",
       "      <th>Task type</th>\n",
       "      <th>Assignment Group_x</th>\n",
       "      <th>Priority</th>\n",
       "      <th>Reopen count [Incident]</th>\n",
       "      <th>SLA</th>\n",
       "      <th>SLA_Flag</th>\n",
       "    </tr>\n",
       "  </thead>\n",
       "  <tbody>\n",
       "    <tr>\n",
       "      <th>0</th>\n",
       "      <td>CHG0074204</td>\n",
       "      <td>Change Request</td>\n",
       "      <td>MDM Application Support</td>\n",
       "      <td>4 - Low</td>\n",
       "      <td>0.0</td>\n",
       "      <td>NaN</td>\n",
       "      <td>0</td>\n",
       "    </tr>\n",
       "    <tr>\n",
       "      <th>1</th>\n",
       "      <td>CHG0074205</td>\n",
       "      <td>Change Request</td>\n",
       "      <td>MDM Application Support</td>\n",
       "      <td>4 - Low</td>\n",
       "      <td>0.0</td>\n",
       "      <td>NaN</td>\n",
       "      <td>0</td>\n",
       "    </tr>\n",
       "    <tr>\n",
       "      <th>2</th>\n",
       "      <td>CHG0074461</td>\n",
       "      <td>Change Request</td>\n",
       "      <td>EIS – Managed Services</td>\n",
       "      <td>3 - Medium</td>\n",
       "      <td>0.0</td>\n",
       "      <td>NaN</td>\n",
       "      <td>0</td>\n",
       "    </tr>\n",
       "    <tr>\n",
       "      <th>3</th>\n",
       "      <td>CHG0074485</td>\n",
       "      <td>Change Request</td>\n",
       "      <td>Snowflake Operation Support</td>\n",
       "      <td>3 - Medium</td>\n",
       "      <td>0.0</td>\n",
       "      <td>NaN</td>\n",
       "      <td>0</td>\n",
       "    </tr>\n",
       "    <tr>\n",
       "      <th>4</th>\n",
       "      <td>CHG0074513</td>\n",
       "      <td>Change Request</td>\n",
       "      <td>Database Management Services</td>\n",
       "      <td>3 - Medium</td>\n",
       "      <td>0.0</td>\n",
       "      <td>NaN</td>\n",
       "      <td>0</td>\n",
       "    </tr>\n",
       "    <tr>\n",
       "      <th>...</th>\n",
       "      <td>...</td>\n",
       "      <td>...</td>\n",
       "      <td>...</td>\n",
       "      <td>...</td>\n",
       "      <td>...</td>\n",
       "      <td>...</td>\n",
       "      <td>...</td>\n",
       "    </tr>\n",
       "    <tr>\n",
       "      <th>1438</th>\n",
       "      <td>TASK0655122</td>\n",
       "      <td>Catalog Task</td>\n",
       "      <td>Snowflake Operation Support</td>\n",
       "      <td>4 - Low</td>\n",
       "      <td>0.0</td>\n",
       "      <td>NaN</td>\n",
       "      <td>0</td>\n",
       "    </tr>\n",
       "    <tr>\n",
       "      <th>1439</th>\n",
       "      <td>TASK0655123</td>\n",
       "      <td>Catalog Task</td>\n",
       "      <td>Snowflake Operation Support</td>\n",
       "      <td>4 - Low</td>\n",
       "      <td>0.0</td>\n",
       "      <td>NaN</td>\n",
       "      <td>0</td>\n",
       "    </tr>\n",
       "    <tr>\n",
       "      <th>1440</th>\n",
       "      <td>TASK0655514</td>\n",
       "      <td>Catalog Task</td>\n",
       "      <td>Telecom Operations - Provisioning</td>\n",
       "      <td>4 - Low</td>\n",
       "      <td>0.0</td>\n",
       "      <td>NaN</td>\n",
       "      <td>0</td>\n",
       "    </tr>\n",
       "    <tr>\n",
       "      <th>1441</th>\n",
       "      <td>TASK0657304</td>\n",
       "      <td>Catalog Task</td>\n",
       "      <td>Supply Chain Services</td>\n",
       "      <td>4 - Low</td>\n",
       "      <td>0.0</td>\n",
       "      <td>NaN</td>\n",
       "      <td>0</td>\n",
       "    </tr>\n",
       "    <tr>\n",
       "      <th>1442</th>\n",
       "      <td>TASK0657308</td>\n",
       "      <td>Catalog Task</td>\n",
       "      <td>Telecom Operations - Provisioning</td>\n",
       "      <td>4 - Low</td>\n",
       "      <td>0.0</td>\n",
       "      <td>NaN</td>\n",
       "      <td>0</td>\n",
       "    </tr>\n",
       "  </tbody>\n",
       "</table>\n",
       "<p>1443 rows × 7 columns</p>\n",
       "</div>"
      ],
      "text/plain": [
       "           Number       Task type                 Assignment Group_x  \\\n",
       "0      CHG0074204  Change Request           MDM Application Support    \n",
       "1      CHG0074205  Change Request           MDM Application Support    \n",
       "2      CHG0074461  Change Request           EIS – Managed Services     \n",
       "3      CHG0074485  Change Request        Snowflake Operation Support   \n",
       "4      CHG0074513  Change Request       Database Management Services   \n",
       "...           ...             ...                                ...   \n",
       "1438  TASK0655122    Catalog Task        Snowflake Operation Support   \n",
       "1439  TASK0655123    Catalog Task        Snowflake Operation Support   \n",
       "1440  TASK0655514    Catalog Task  Telecom Operations - Provisioning   \n",
       "1441  TASK0657304    Catalog Task              Supply Chain Services   \n",
       "1442  TASK0657308    Catalog Task  Telecom Operations - Provisioning   \n",
       "\n",
       "        Priority  Reopen count [Incident]  SLA  SLA_Flag  \n",
       "0        4 - Low                      0.0  NaN         0  \n",
       "1        4 - Low                      0.0  NaN         0  \n",
       "2     3 - Medium                      0.0  NaN         0  \n",
       "3     3 - Medium                      0.0  NaN         0  \n",
       "4     3 - Medium                      0.0  NaN         0  \n",
       "...          ...                      ...  ...       ...  \n",
       "1438     4 - Low                      0.0  NaN         0  \n",
       "1439     4 - Low                      0.0  NaN         0  \n",
       "1440     4 - Low                      0.0  NaN         0  \n",
       "1441     4 - Low                      0.0  NaN         0  \n",
       "1442     4 - Low                      0.0  NaN         0  \n",
       "\n",
       "[1443 rows x 7 columns]"
      ]
     },
     "execution_count": 419,
     "metadata": {},
     "output_type": "execute_result"
    }
   ],
   "source": [
    "df_merge"
   ]
  },
  {
   "cell_type": "code",
   "execution_count": 420,
   "id": "87a019ea-9196-410d-95bb-eaeaef1694df",
   "metadata": {},
   "outputs": [
    {
     "data": {
      "text/plain": [
       "SLA_Flag\n",
       "0    1405\n",
       "1      38\n",
       "Name: count, dtype: int64"
      ]
     },
     "execution_count": 420,
     "metadata": {},
     "output_type": "execute_result"
    }
   ],
   "source": [
    "df_merge['SLA_Flag'].value_counts()"
   ]
  },
  {
   "cell_type": "code",
   "execution_count": 421,
   "id": "9fa25790-9299-443c-bd61-f5e5feec4829",
   "metadata": {},
   "outputs": [],
   "source": [
    "total_tasks = len(df_merge)"
   ]
  },
  {
   "cell_type": "code",
   "execution_count": 422,
   "id": "4ac55d74-f4df-4417-b303-2c5748f24131",
   "metadata": {},
   "outputs": [
    {
     "data": {
      "text/plain": [
       "1443"
      ]
     },
     "execution_count": 422,
     "metadata": {},
     "output_type": "execute_result"
    }
   ],
   "source": [
    "total_tasks"
   ]
  },
  {
   "cell_type": "code",
   "execution_count": 423,
   "id": "d9e328e0-eeee-491a-8965-320371506bc5",
   "metadata": {},
   "outputs": [],
   "source": [
    "breached = (df_merge['SLA_Flag'] == 1).sum()"
   ]
  },
  {
   "cell_type": "code",
   "execution_count": 424,
   "id": "7f6eb63b-ce1a-42df-b4e2-6bfe11d88bf2",
   "metadata": {},
   "outputs": [
    {
     "data": {
      "text/plain": [
       "38"
      ]
     },
     "execution_count": 424,
     "metadata": {},
     "output_type": "execute_result"
    }
   ],
   "source": [
    "breached"
   ]
  },
  {
   "cell_type": "code",
   "execution_count": 425,
   "id": "4c697878-6660-44e5-a62b-a8736d85b178",
   "metadata": {},
   "outputs": [],
   "source": [
    "breach_percentage = (breached / total_tasks) * 100"
   ]
  },
  {
   "cell_type": "code",
   "execution_count": 426,
   "id": "abfcaf2e-3dbf-470e-9081-fb31479fa186",
   "metadata": {},
   "outputs": [
    {
     "data": {
      "text/plain": [
       "2.6334026334026333"
      ]
     },
     "execution_count": 426,
     "metadata": {},
     "output_type": "execute_result"
    }
   ],
   "source": [
    "breach_percentage"
   ]
  },
  {
   "cell_type": "code",
   "execution_count": 427,
   "id": "a6ac7abe-cecb-49b6-b282-d5c8d9d139f3",
   "metadata": {},
   "outputs": [
    {
     "name": "stdout",
     "output_type": "stream",
     "text": [
      "SLA Breach Percentage: 2.63%\n"
     ]
    }
   ],
   "source": [
    "print(f\"SLA Breach Percentage: {breach_percentage:.2f}%\")"
   ]
  },
  {
   "cell_type": "code",
   "execution_count": 428,
   "id": "dfa0517a-fd40-46c2-a885-fd642fcf9728",
   "metadata": {},
   "outputs": [
    {
     "name": "stdout",
     "output_type": "stream",
     "text": [
      "<class 'pandas.core.frame.DataFrame'>\n",
      "RangeIndex: 1443 entries, 0 to 1442\n",
      "Data columns (total 7 columns):\n",
      " #   Column                   Non-Null Count  Dtype  \n",
      "---  ------                   --------------  -----  \n",
      " 0   Number                   1443 non-null   object \n",
      " 1   Task type                1441 non-null   object \n",
      " 2   Assignment Group_x       1441 non-null   object \n",
      " 3   Priority                 1441 non-null   object \n",
      " 4   Reopen count [Incident]  1441 non-null   float64\n",
      " 5   SLA                      38 non-null     object \n",
      " 6   SLA_Flag                 1443 non-null   int32  \n",
      "dtypes: float64(1), int32(1), object(5)\n",
      "memory usage: 73.4+ KB\n"
     ]
    }
   ],
   "source": [
    "df_merge.info()"
   ]
  },
  {
   "cell_type": "code",
   "execution_count": 429,
   "id": "92ca9207-43d6-4845-8aef-9fa3d4ee2f68",
   "metadata": {},
   "outputs": [],
   "source": [
    "sla_breach_rate = df_merge.groupby('Assignment Group_x')['SLA_Flag'].agg(['sum','count'])\n",
    "#sla_breach_rate\n",
    "sla_breach_rate['SLA Breach Rate(%)'] = (sla_breach_rate['sum']/sla_breach_rate['count'])*100\n",
    "sla_breach_rate['SLA Breach Rate(%)'] = sla_breach_rate['SLA Breach Rate(%)'].round(2)"
   ]
  },
  {
   "cell_type": "code",
   "execution_count": 430,
   "id": "9bf4d842-0a0f-4925-a035-614a9ab433c1",
   "metadata": {},
   "outputs": [
    {
     "data": {
      "text/plain": [
       "Assignment Group_x\n",
       "Application Development              13.33\n",
       "Azure Architecture                   27.78\n",
       "Business Intelligence                15.00\n",
       "Database Management Services          0.22\n",
       "EIS – Managed Services                0.70\n",
       "EIS – Platform Services               0.00\n",
       "EIS – Project                         0.00\n",
       "GCP IT Operation                      1.92\n",
       "MDM Application Support               0.00\n",
       "MDM Operations  Support               0.00\n",
       "Snowflake Operation Support           0.00\n",
       "Supply Chain Services                 0.00\n",
       "Telecom Architecture                  0.00\n",
       "Telecom Operations - Provisioning    50.00\n",
       "Name: SLA Breach Rate(%), dtype: float64"
      ]
     },
     "execution_count": 430,
     "metadata": {},
     "output_type": "execute_result"
    }
   ],
   "source": [
    "sla_breach_rate['SLA Breach Rate(%)']"
   ]
  },
  {
   "cell_type": "code",
   "execution_count": 431,
   "id": "5c7a8f81-69c0-4fe9-a2e8-3f8f93d437a9",
   "metadata": {},
   "outputs": [
    {
     "data": {
      "text/html": [
       "<div>\n",
       "<style scoped>\n",
       "    .dataframe tbody tr th:only-of-type {\n",
       "        vertical-align: middle;\n",
       "    }\n",
       "\n",
       "    .dataframe tbody tr th {\n",
       "        vertical-align: top;\n",
       "    }\n",
       "\n",
       "    .dataframe thead th {\n",
       "        text-align: right;\n",
       "    }\n",
       "</style>\n",
       "<table border=\"1\" class=\"dataframe\">\n",
       "  <thead>\n",
       "    <tr style=\"text-align: right;\">\n",
       "      <th></th>\n",
       "      <th>sum</th>\n",
       "      <th>count</th>\n",
       "      <th>SLA Breach Rate(%)</th>\n",
       "    </tr>\n",
       "    <tr>\n",
       "      <th>Assignment Group_x</th>\n",
       "      <th></th>\n",
       "      <th></th>\n",
       "      <th></th>\n",
       "    </tr>\n",
       "  </thead>\n",
       "  <tbody>\n",
       "    <tr>\n",
       "      <th>Application Development</th>\n",
       "      <td>2</td>\n",
       "      <td>15</td>\n",
       "      <td>13.33</td>\n",
       "    </tr>\n",
       "    <tr>\n",
       "      <th>Azure Architecture</th>\n",
       "      <td>5</td>\n",
       "      <td>18</td>\n",
       "      <td>27.78</td>\n",
       "    </tr>\n",
       "    <tr>\n",
       "      <th>Business Intelligence</th>\n",
       "      <td>24</td>\n",
       "      <td>160</td>\n",
       "      <td>15.00</td>\n",
       "    </tr>\n",
       "    <tr>\n",
       "      <th>Database Management Services</th>\n",
       "      <td>1</td>\n",
       "      <td>449</td>\n",
       "      <td>0.22</td>\n",
       "    </tr>\n",
       "    <tr>\n",
       "      <th>EIS – Managed Services</th>\n",
       "      <td>1</td>\n",
       "      <td>143</td>\n",
       "      <td>0.70</td>\n",
       "    </tr>\n",
       "    <tr>\n",
       "      <th>EIS – Platform Services</th>\n",
       "      <td>0</td>\n",
       "      <td>71</td>\n",
       "      <td>0.00</td>\n",
       "    </tr>\n",
       "    <tr>\n",
       "      <th>EIS – Project</th>\n",
       "      <td>0</td>\n",
       "      <td>7</td>\n",
       "      <td>0.00</td>\n",
       "    </tr>\n",
       "    <tr>\n",
       "      <th>GCP IT Operation</th>\n",
       "      <td>1</td>\n",
       "      <td>52</td>\n",
       "      <td>1.92</td>\n",
       "    </tr>\n",
       "    <tr>\n",
       "      <th>MDM Application Support</th>\n",
       "      <td>0</td>\n",
       "      <td>26</td>\n",
       "      <td>0.00</td>\n",
       "    </tr>\n",
       "    <tr>\n",
       "      <th>MDM Operations  Support</th>\n",
       "      <td>0</td>\n",
       "      <td>144</td>\n",
       "      <td>0.00</td>\n",
       "    </tr>\n",
       "    <tr>\n",
       "      <th>Snowflake Operation Support</th>\n",
       "      <td>0</td>\n",
       "      <td>194</td>\n",
       "      <td>0.00</td>\n",
       "    </tr>\n",
       "    <tr>\n",
       "      <th>Supply Chain Services</th>\n",
       "      <td>0</td>\n",
       "      <td>156</td>\n",
       "      <td>0.00</td>\n",
       "    </tr>\n",
       "    <tr>\n",
       "      <th>Telecom Architecture</th>\n",
       "      <td>0</td>\n",
       "      <td>2</td>\n",
       "      <td>0.00</td>\n",
       "    </tr>\n",
       "    <tr>\n",
       "      <th>Telecom Operations - Provisioning</th>\n",
       "      <td>2</td>\n",
       "      <td>4</td>\n",
       "      <td>50.00</td>\n",
       "    </tr>\n",
       "  </tbody>\n",
       "</table>\n",
       "</div>"
      ],
      "text/plain": [
       "                                   sum  count  SLA Breach Rate(%)\n",
       "Assignment Group_x                                               \n",
       "Application Development              2     15               13.33\n",
       "Azure Architecture                   5     18               27.78\n",
       "Business Intelligence               24    160               15.00\n",
       "Database Management Services         1    449                0.22\n",
       "EIS – Managed Services               1    143                0.70\n",
       "EIS – Platform Services              0     71                0.00\n",
       "EIS – Project                        0      7                0.00\n",
       "GCP IT Operation                     1     52                1.92\n",
       "MDM Application Support              0     26                0.00\n",
       "MDM Operations  Support              0    144                0.00\n",
       "Snowflake Operation Support          0    194                0.00\n",
       "Supply Chain Services                0    156                0.00\n",
       "Telecom Architecture                 0      2                0.00\n",
       "Telecom Operations - Provisioning    2      4               50.00"
      ]
     },
     "execution_count": 431,
     "metadata": {},
     "output_type": "execute_result"
    }
   ],
   "source": [
    "sla_breach_rate"
   ]
  },
  {
   "cell_type": "markdown",
   "id": "324f36b1-7982-4a6d-922e-428098596d2e",
   "metadata": {},
   "source": [
    "Data Visulaization"
   ]
  },
  {
   "cell_type": "code",
   "execution_count": 400,
   "id": "8b0960c9-d2bf-4b74-aa8f-2f4b74924c4c",
   "metadata": {},
   "outputs": [
    {
     "data": {
      "image/png": "[encoded data removed]",
      "text/plain": [
       "<Figure size 1000x600 with 1 Axes>"
      ]
     },
     "metadata": {},
     "output_type": "display_data"
    }
   ],
   "source": [
    "#Breach Rate Trend\n",
    "\n",
    "plt.figure(figsize=(10,6))\n",
    "sns.lineplot(data=sla_breach_rate, x='Assignment Group_x',y='SLA Breach Rate(%)',marker='o')\n",
    "plt.title('SLA Breach Rate Trend Over Group')\n",
    "plt.xlabel('Assignment Group', fontsize=12,labelpad=5)\n",
    "plt.xticks(rotation=45)\n",
    "plt.ylabel('SLA Breach Rate(%)')\n",
    "plt.ylim(0,100)\n",
    "plt.grid(True)\n",
    "plt.tight_layout()\n",
    "plt.legend(title='Assignment Group')\n",
    "plt.show()"
   ]
  },
  {
   "cell_type": "code",
   "execution_count": 437,
   "id": "262b3979-9f88-4cbe-ae14-f611b6a7bf5a",
   "metadata": {},
   "outputs": [
    {
     "data": {
      "image/png": "[encoded data removed]",
      "text/plain": [
       "<Figure size 1500x600 with 1 Axes>"
      ]
     },
     "metadata": {},
     "output_type": "display_data"
    }
   ],
   "source": [
    "#Task type ddistribuation\n",
    "\n",
    "task_counts = df_merge['Assignment Group_x'].value_counts()\n",
    "\n",
    "plt.figure(figsize=(15,6))\n",
    "sns.barplot(x=task_counts.index,y=task_counts.values)\n",
    "plt.title('Task Distribution by Groups')\n",
    "plt.xlabel('Assigned Groups',labelpad=2)\n",
    "plt.xticks(rotation=45)\n",
    "plt.ylabel('Numbers')\n",
    "plt.show()"
   ]
  },
  {
   "cell_type": "code",
   "execution_count": 441,
   "id": "11ef63c1-02ac-4e83-afeb-88c9e9e93fae",
   "metadata": {},
   "outputs": [
    {
     "data": {
      "image/png": "[encoded data removed]",
      "text/plain": [
       "<Figure size 640x480 with 1 Axes>"
      ]
     },
     "metadata": {},
     "output_type": "display_data"
    }
   ],
   "source": [
    "#priority-wise task load\n",
    "\n",
    "pivot = pd.pivot_table(df_merge, index='Assignment Group_x', columns='Priority', aggfunc='size', fill_value=0)\n",
    "pivot.plot(kind='bar', stacked=True,colormap='Set2')\n",
    "plt.title('Task Load by Priority and Group')\n",
    "plt.xlabel('Assigned Group')\n",
    "plt.ylabel('Number of Tasks')\n",
    "plt.legend(title='Priority')\n",
    "plt.show()"
   ]
  },
  {
   "cell_type": "code",
   "execution_count": 443,
   "id": "a8844293-6548-46c7-8b5f-b44f43436d30",
   "metadata": {},
   "outputs": [
    {
     "data": {
      "image/png": "[encoded data removed]",
      "text/plain": [
       "<Figure size 640x480 with 1 Axes>"
      ]
     },
     "metadata": {},
     "output_type": "display_data"
    }
   ],
   "source": [
    "priority_counts = df_merge['Priority'].value_counts().sort_index()\n",
    "sns.barplot(x=priority_counts.index, y=priority_counts.values,palette='coolwarm')\n",
    "plt.title('Task Load by Priority')\n",
    "plt.xlabel('Priority Level')\n",
    "plt.ylabel('Number of Tasks')\n",
    "plt.legend(title='Priority')\n",
    "plt.show()"
   ]
  },
  {
   "cell_type": "code",
   "execution_count": 445,
   "id": "065bb5c5-9311-4537-8560-7b7bf9f5c7d7",
   "metadata": {},
   "outputs": [
    {
     "data": {
      "image/png": "[encoded data removed]",
      "text/plain": [
       "<Figure size 640x480 with 1 Axes>"
      ]
     },
     "metadata": {},
     "output_type": "display_data"
    }
   ],
   "source": [
    "grouped = df_merge.groupby(['Assignment Group_x', 'Priority']).size().reset_index(name='Count')\n",
    "sns.barplot(data=grouped, x='Assignment Group_x', y='Count', hue='Priority', palette='coolwarm')\n",
    "plt.title('Task Load by Priority and Assignment Group')\n",
    "plt.xlabel('Assignment Group')\n",
    "plt.ylabel('Number of Tasks')\n",
    "plt.xticks(rotation=45, ha='right')  # for better label visibility\n",
    "plt.legend(title='Priority')\n",
    "plt.tight_layout()\n",
    "plt.show()"
   ]
  },
  {
   "cell_type": "code",
   "execution_count": null,
   "id": "6ba25d5a-8dc5-48fa-9fb4-6167b516bb33",
   "metadata": {},
   "outputs": [],
   "source": []
  }
 ],
 "metadata": {
  "kernelspec": {
   "display_name": "Python [conda env:base] *",
   "language": "python",
   "name": "conda-base-py"
  },
  "language_info": {
   "codemirror_mode": {
    "name": "ipython",
    "version": 3
   },
   "file_extension": ".py",
   "mimetype": "text/x-python",
   "name": "python",
   "nbconvert_exporter": "python",
   "pygments_lexer": "ipython3",
   "version": "3.12.7"
  }
 },
 "nbformat": 4,
 "nbformat_minor": 5
}
